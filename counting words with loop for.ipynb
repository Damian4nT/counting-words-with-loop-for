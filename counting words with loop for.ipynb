{
 "cells": [
  {
   "cell_type": "markdown",
   "id": "b28f6d13-f098-4e6e-ab2a-5c5d0e06e03f",
   "metadata": {},
   "source": [
    "# Counting words with loop for and while"
   ]
  },
  {
   "cell_type": "markdown",
   "id": "d606a91a-91e8-4a98-9925-e5f130d624d1",
   "metadata": {},
   "source": [
    "#### Piece of text we will train on"
   ]
  },
  {
   "cell_type": "code",
   "execution_count": 1,
   "id": "1da7ee99-ebca-4e63-ab33-d37bec9733f4",
   "metadata": {},
   "outputs": [],
   "source": [
    "text=\"I said what I said because I meant what I said when I said what I said. He kept running and running and running until running was all he knew. The more you think about what you think, the more you think you thought the right thing.\""
   ]
  },
  {
   "cell_type": "code",
   "execution_count": 2,
   "id": "973de0de-8104-4aab-835c-5ea2c1f83cc5",
   "metadata": {},
   "outputs": [],
   "source": [
    "import re"
   ]
  },
  {
   "cell_type": "code",
   "execution_count": 13,
   "id": "813e6c74-af3d-4cbb-bf19-99de8f8b0212",
   "metadata": {},
   "outputs": [],
   "source": [
    "#define function\n",
    "def count_words (txt):\n",
    "    \"\"\"\n",
    "    this function counts\n",
    "    each unique word in\n",
    "    given piece of text (txt)\n",
    "    \"\"\"\n",
    "    txt=txt.lower()                 # Convert text to lowercase so that 'Word' and 'word' are treated the same\n",
    "    txt=re.sub(r'[,\"!./]','',txt)   # Remove punctuation marks to clean the input\n",
    "    txt=txt.split()                 # split the text into individual words\n",
    "    words=[]                 # in this list we will store our unique words\n",
    "    for word in txt:\n",
    "        if not word in words:   # check if word was already counted\n",
    "            words.append(word)  # add this word to list so it will not be repeated\n",
    "            result=print(f\"{word} appears in given text\", txt.count(word),\"times\")\n",
    "    return result"
   ]
  },
  {
   "cell_type": "markdown",
   "id": "9ca679a3-16d0-4a7b-a014-85fef12a379f",
   "metadata": {},
   "source": [
    "### It is time to test function"
   ]
  },
  {
   "cell_type": "code",
   "execution_count": 14,
   "id": "6f53bcda-4ab9-4fe7-bbb6-8e3ac4eb3473",
   "metadata": {},
   "outputs": [
    {
     "name": "stdout",
     "output_type": "stream",
     "text": [
      "i appears in given text 6 times\n",
      "said appears in given text 5 times\n",
      "what appears in given text 4 times\n",
      "because appears in given text 1 times\n",
      "meant appears in given text 1 times\n",
      "when appears in given text 1 times\n",
      "he appears in given text 2 times\n",
      "kept appears in given text 1 times\n",
      "running appears in given text 4 times\n",
      "and appears in given text 2 times\n",
      "until appears in given text 1 times\n",
      "was appears in given text 1 times\n",
      "all appears in given text 1 times\n",
      "knew appears in given text 1 times\n",
      "the appears in given text 3 times\n",
      "more appears in given text 2 times\n",
      "you appears in given text 4 times\n",
      "think appears in given text 3 times\n",
      "about appears in given text 1 times\n",
      "thought appears in given text 1 times\n",
      "right appears in given text 1 times\n",
      "thing appears in given text 1 times\n"
     ]
    }
   ],
   "source": [
    "count_words(text)"
   ]
  },
  {
   "cell_type": "markdown",
   "id": "c9c744f5-0c03-4f6f-87ed-3b69d980c8e8",
   "metadata": {},
   "source": [
    "**There is a lot of noise from word which appear more than one time. It is good idea to remove them**"
   ]
  },
  {
   "cell_type": "code",
   "execution_count": 33,
   "id": "0c6f3d23-b9b0-41fa-9c6a-b39d1436b358",
   "metadata": {},
   "outputs": [],
   "source": [
    "def count_words_excl1 (txt):\n",
    "    \"\"\"\n",
    "    this function counts only the \n",
    "    words that appear more than \n",
    "    once in the given text (txt)\n",
    "    \"\"\"\n",
    "    txt=txt.lower()                 # Convert text to lowercase so that 'Word' and 'word' are treated the same\n",
    "    txt=re.sub(r'[,\"!./]','',txt)   # Remove punctuation marks to clean the input\n",
    "    txt=txt.split()                 # split the text into individual words\n",
    "    checked_words=[]                # List to track already processed words\n",
    "    for word in txt:\n",
    "         if not word in checked_words: # Skip words that have already been processed\n",
    "             count=txt.count(word)\n",
    "             if count > 1:             #Only include words that appear more than once\n",
    "                print(f\"{word} appears in given text {count}times\")\n",
    "                checked_words.append(word)"
   ]
  },
  {
   "cell_type": "code",
   "execution_count": 34,
   "id": "fa965137-8e41-4a20-9c99-cbdbc6253dac",
   "metadata": {},
   "outputs": [
    {
     "name": "stdout",
     "output_type": "stream",
     "text": [
      "i appears in given text 6times\n",
      "said appears in given text 5times\n",
      "what appears in given text 4times\n",
      "he appears in given text 2times\n",
      "running appears in given text 4times\n",
      "and appears in given text 2times\n",
      "the appears in given text 3times\n",
      "more appears in given text 2times\n",
      "you appears in given text 4times\n",
      "think appears in given text 3times\n"
     ]
    }
   ],
   "source": [
    "count_words_excl1(text)"
   ]
  },
  {
   "cell_type": "code",
   "execution_count": null,
   "id": "902fa3e8-6581-47cd-a383-a33e886ef4b4",
   "metadata": {},
   "outputs": [],
   "source": []
  }
 ],
 "metadata": {
  "kernelspec": {
   "display_name": "Python [conda env:base] *",
   "language": "python",
   "name": "conda-base-py"
  },
  "language_info": {
   "codemirror_mode": {
    "name": "ipython",
    "version": 3
   },
   "file_extension": ".py",
   "mimetype": "text/x-python",
   "name": "python",
   "nbconvert_exporter": "python",
   "pygments_lexer": "ipython3",
   "version": "3.12.7"
  }
 },
 "nbformat": 4,
 "nbformat_minor": 5
}
