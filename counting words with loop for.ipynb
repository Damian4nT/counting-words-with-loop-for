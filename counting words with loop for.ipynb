{
 "cells": [
  {
   "cell_type": "markdown",
   "id": "b28f6d13-f098-4e6e-ab2a-5c5d0e06e03f",
   "metadata": {},
   "source": [
    "# Counting words with loop for and while"
   ]
  },
  {
   "cell_type": "markdown",
   "id": "d606a91a-91e8-4a98-9925-e5f130d624d1",
   "metadata": {},
   "source": [
    "#### Piece of text we will train on"
   ]
  },
  {
   "cell_type": "code",
   "execution_count": 18,
   "id": "1da7ee99-ebca-4e63-ab33-d37bec9733f4",
   "metadata": {},
   "outputs": [
    {
     "data": {
      "text/plain": [
       "'I said what I said because I meant what I said when I said what I said. He kept running and running and running until running was all he knew. The more you think about what you think, the more you think you thought the right thing.'"
      ]
     },
     "execution_count": 18,
     "metadata": {},
     "output_type": "execute_result"
    }
   ],
   "source": [
    "text=\"I said what I said because I meant what I said when I said what I said. He kept running and running and running until running was all he knew. The more you think about what you think, the more you think you thought the right thing.\"\n",
    "\n",
    "text"
   ]
  },
  {
   "cell_type": "code",
   "execution_count": 19,
   "id": "973de0de-8104-4aab-835c-5ea2c1f83cc5",
   "metadata": {},
   "outputs": [],
   "source": [
    "import re"
   ]
  },
  {
   "cell_type": "code",
   "execution_count": 20,
   "id": "813e6c74-af3d-4cbb-bf19-99de8f8b0212",
   "metadata": {},
   "outputs": [],
   "source": [
    "#define function\n",
    "def count_words (txt):\n",
    "    \"\"\"\n",
    "    this function counts\n",
    "    each unique word in\n",
    "    given piece of text (txt)\n",
    "    \"\"\"\n",
    "    txt=txt.lower() \n",
    "    txt=re.sub(r'[,\"!./]','',txt)   #firstly we will standaraize text\n",
    "    txt=txt.split()          #we split sentences into words\n",
    "    txt=list(txt)            #we create list which we will use in loop\n",
    "    words=[]                 #in this list we will store our unique words\n",
    "    for a in txt:\n",
    "        if not a in words:   #sprawdzamy czy nasz wyraz jest już policzony\n",
    "            words.append(a)  #we add this word to words to do not repeat words in final result\n",
    "            result=print(f\"{a} appears in given text\", txt.count(a),\"times\")\n",
    "    return(result)"
   ]
  },
  {
   "cell_type": "markdown",
   "id": "9ca679a3-16d0-4a7b-a014-85fef12a379f",
   "metadata": {},
   "source": [
    "### It is time to test function"
   ]
  },
  {
   "cell_type": "code",
   "execution_count": 21,
   "id": "6f53bcda-4ab9-4fe7-bbb6-8e3ac4eb3473",
   "metadata": {},
   "outputs": [
    {
     "name": "stdout",
     "output_type": "stream",
     "text": [
      "i appears in given text 6 times\n",
      "said appears in given text 5 times\n",
      "what appears in given text 4 times\n",
      "because appears in given text 1 times\n",
      "meant appears in given text 1 times\n",
      "when appears in given text 1 times\n",
      "he appears in given text 2 times\n",
      "kept appears in given text 1 times\n",
      "running appears in given text 4 times\n",
      "and appears in given text 2 times\n",
      "until appears in given text 1 times\n",
      "was appears in given text 1 times\n",
      "all appears in given text 1 times\n",
      "knew appears in given text 1 times\n",
      "the appears in given text 3 times\n",
      "more appears in given text 2 times\n",
      "you appears in given text 4 times\n",
      "think appears in given text 3 times\n",
      "about appears in given text 1 times\n",
      "thought appears in given text 1 times\n",
      "right appears in given text 1 times\n",
      "thing appears in given text 1 times\n"
     ]
    }
   ],
   "source": [
    "count_words(text)"
   ]
  },
  {
   "cell_type": "code",
   "execution_count": null,
   "id": "92886b2c-99c9-45ee-bf16-6143da0e324c",
   "metadata": {},
   "outputs": [],
   "source": []
  }
 ],
 "metadata": {
  "kernelspec": {
   "display_name": "Python [conda env:base] *",
   "language": "python",
   "name": "conda-base-py"
  },
  "language_info": {
   "codemirror_mode": {
    "name": "ipython",
    "version": 3
   },
   "file_extension": ".py",
   "mimetype": "text/x-python",
   "name": "python",
   "nbconvert_exporter": "python",
   "pygments_lexer": "ipython3",
   "version": "3.12.7"
  }
 },
 "nbformat": 4,
 "nbformat_minor": 5
}
