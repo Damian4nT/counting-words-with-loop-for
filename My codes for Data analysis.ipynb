{
 "cells": [
  {
   "cell_type": "markdown",
   "id": "b28f6d13-f098-4e6e-ab2a-5c5d0e06e03f",
   "metadata": {},
   "source": [
    "# Counting words with loop for and while"
   ]
  },
  {
   "cell_type": "markdown",
   "id": "d606a91a-91e8-4a98-9925-e5f130d624d1",
   "metadata": {},
   "source": [
    "#### Piece of text we will train on"
   ]
  },
  {
   "cell_type": "code",
   "execution_count": 1,
   "id": "1da7ee99-ebca-4e63-ab33-d37bec9733f4",
   "metadata": {},
   "outputs": [],
   "source": [
    "text=\"I said what I said because I meant what I said when I said what I said. He kept running and running and running until running was all he knew. The more you think! about what you think, the more you think you thought the right thing.\""
   ]
  },
  {
   "cell_type": "code",
   "execution_count": 2,
   "id": "973de0de-8104-4aab-835c-5ea2c1f83cc5",
   "metadata": {},
   "outputs": [],
   "source": [
    "import re"
   ]
  },
  {
   "cell_type": "code",
   "execution_count": 3,
   "id": "813e6c74-af3d-4cbb-bf19-99de8f8b0212",
   "metadata": {},
   "outputs": [],
   "source": [
    "#define function\n",
    "def count_words (txt):\n",
    "    \"\"\"\n",
    "    this function counts\n",
    "    each unique word in\n",
    "    given piece of text (txt)\n",
    "    \"\"\"\n",
    "    txt=txt.lower()                 # Convert text to lowercase so that 'Word' and 'word' are treated the same\n",
    "    txt=re.sub(r'[,\"!./]','',txt)   # Remove punctuation marks to clean the input\n",
    "    txt=txt.split()                 # split the text into individual words\n",
    "    words=[]                 # in this list we will store our unique words\n",
    "    for word in txt:\n",
    "        if not word in words:   # check if word was already counted\n",
    "            words.append(word)  # add this word to list so it will not be repeated\n",
    "            result=print(f\"{word} appears in given text\", txt.count(word),\"times\")\n",
    "    return result"
   ]
  },
  {
   "cell_type": "markdown",
   "id": "9ca679a3-16d0-4a7b-a014-85fef12a379f",
   "metadata": {},
   "source": [
    "### It is time to test function"
   ]
  },
  {
   "cell_type": "code",
   "execution_count": 4,
   "id": "6f53bcda-4ab9-4fe7-bbb6-8e3ac4eb3473",
   "metadata": {},
   "outputs": [
    {
     "name": "stdout",
     "output_type": "stream",
     "text": [
      "i appears in given text 6 times\n",
      "said appears in given text 5 times\n",
      "what appears in given text 4 times\n",
      "because appears in given text 1 times\n",
      "meant appears in given text 1 times\n",
      "when appears in given text 1 times\n",
      "he appears in given text 2 times\n",
      "kept appears in given text 1 times\n",
      "running appears in given text 4 times\n",
      "and appears in given text 2 times\n",
      "until appears in given text 1 times\n",
      "was appears in given text 1 times\n",
      "all appears in given text 1 times\n",
      "knew appears in given text 1 times\n",
      "the appears in given text 3 times\n",
      "more appears in given text 2 times\n",
      "you appears in given text 4 times\n",
      "think appears in given text 3 times\n",
      "about appears in given text 1 times\n",
      "thought appears in given text 1 times\n",
      "right appears in given text 1 times\n",
      "thing appears in given text 1 times\n"
     ]
    }
   ],
   "source": [
    "count_words(text)"
   ]
  },
  {
   "cell_type": "markdown",
   "id": "c9c744f5-0c03-4f6f-87ed-3b69d980c8e8",
   "metadata": {},
   "source": [
    "**There is a lot of noise from word which appear more than one time. It is good idea to remove them**"
   ]
  },
  {
   "cell_type": "code",
   "execution_count": 5,
   "id": "0c6f3d23-b9b0-41fa-9c6a-b39d1436b358",
   "metadata": {},
   "outputs": [],
   "source": [
    "def count_words_excl1 (txt):\n",
    "    \"\"\"\n",
    "    this function counts only the \n",
    "    words that appear more than \n",
    "    once in the given text (txt)\n",
    "    \"\"\"\n",
    "    txt=txt.lower()                 # Convert text to lowercase so that 'Word' and 'word' are treated the same\n",
    "    txt=re.sub(r'[,\"!./]','',txt)   # Remove punctuation marks to clean the input\n",
    "    txt=txt.split()                 # split the text into individual words\n",
    "    checked_words=[]                # List to track already processed words\n",
    "    for word in txt:\n",
    "         if not word in checked_words: # Skip words that have already been processed\n",
    "             count=txt.count(word)\n",
    "             if count > 1:             #Only include words that appear more than once\n",
    "                print(f\"{word} appears in given text {count}times\")\n",
    "                checked_words.append(word)"
   ]
  },
  {
   "cell_type": "code",
   "execution_count": 6,
   "id": "fa965137-8e41-4a20-9c99-cbdbc6253dac",
   "metadata": {},
   "outputs": [
    {
     "name": "stdout",
     "output_type": "stream",
     "text": [
      "i appears in given text 6times\n",
      "said appears in given text 5times\n",
      "what appears in given text 4times\n",
      "he appears in given text 2times\n",
      "running appears in given text 4times\n",
      "and appears in given text 2times\n",
      "the appears in given text 3times\n",
      "more appears in given text 2times\n",
      "you appears in given text 4times\n",
      "think appears in given text 3times\n"
     ]
    }
   ],
   "source": [
    "count_words_excl1(text)"
   ]
  },
  {
   "cell_type": "markdown",
   "id": "92a77165-01d7-404e-84b4-44659f16006c",
   "metadata": {},
   "source": [
    "# Creating table from list of dictionaries in pandas"
   ]
  },
  {
   "cell_type": "code",
   "execution_count": 8,
   "id": "4e33b134-e9e2-443e-8cf7-f17268be142f",
   "metadata": {},
   "outputs": [],
   "source": [
    "import pandas as pd"
   ]
  },
  {
   "cell_type": "code",
   "execution_count": 9,
   "id": "fe355a66-4ccf-4921-91c1-55f08c4c4dff",
   "metadata": {},
   "outputs": [],
   "source": [
    "NBA_teams=[{'id': 1610612737,'full_name': 'Atlanta Hawks','abbreviation': 'ATL','nickname': 'Hawks','city': 'Atlanta','state': 'Atlanta','year_founded': 1949},\n",
    " {'id': 1610612738,'full_name': 'Boston Celtics','abbreviation': 'BOS','nickname': 'Celtics','city': 'Boston','state': 'Massachusetts','year_founded': 1946},\n",
    " {'id': 1610612739,'full_name': 'Cleveland Cavaliers','abbreviation': 'CLE','nickname': 'Cavaliers','city': 'Cleveland','state': 'Ohio','year_founded': 1970},\n",
    " {'id': 1610612740,'full_name': 'New Orleans Pelicans','abbreviation': 'NOP','nickname': 'Pelicans','city': 'New Orleans','state': 'Louisiana','year_founded': 2002},\n",
    " {'id': 1610612741,'full_name': 'Chicago Bulls','abbreviation': 'CHI','nickname': 'Bulls','city': 'Chicago','state': 'Illinois','year_founded': 1966},\n",
    " {'id': 1610612742,'full_name': 'Dallas Mavericks','abbreviation': 'DAL','nickname': 'Mavericks','city': 'Dallas','state': 'Texas','year_founded': 1980}]"
   ]
  },
  {
   "cell_type": "code",
   "execution_count": 14,
   "id": "e13c7105-c43b-4362-a82c-71a88f9e3351",
   "metadata": {},
   "outputs": [],
   "source": [
    "def table (list_of_dict):\n",
    "    \"\"\"\n",
    "    this function helps convert list of \n",
    "    dictionaries e.g.[{'a':'b'},{'c':'d'},{'e':'f'}]\n",
    "    to a data frame in pandas\n",
    "    \"\"\"\n",
    "    final_dict={}                   #this dictionary will be used as foundation of DataFrame\n",
    "    for dictionary in list_of_dict: #iterate on dictionaries\n",
    "        for key, value in dictionary.items(): #interate on keys and values\n",
    "            if not key in final_dict:         \n",
    "                final_dict[key]=[]            #it prevent duplication of columns\n",
    "                final_dict[key].append(value) #adds new values to columns\n",
    "            else:\n",
    "                final_dict[key].append(value)\n",
    "    final=pd.DataFrame(final_dict)\n",
    "    return final"
   ]
  },
  {
   "cell_type": "code",
   "execution_count": 15,
   "id": "a9af1ec7-efe0-46af-ac51-ee3c93c50197",
   "metadata": {},
   "outputs": [
    {
     "data": {
      "text/html": [
       "<div>\n",
       "<style scoped>\n",
       "    .dataframe tbody tr th:only-of-type {\n",
       "        vertical-align: middle;\n",
       "    }\n",
       "\n",
       "    .dataframe tbody tr th {\n",
       "        vertical-align: top;\n",
       "    }\n",
       "\n",
       "    .dataframe thead th {\n",
       "        text-align: right;\n",
       "    }\n",
       "</style>\n",
       "<table border=\"1\" class=\"dataframe\">\n",
       "  <thead>\n",
       "    <tr style=\"text-align: right;\">\n",
       "      <th></th>\n",
       "      <th>id</th>\n",
       "      <th>full_name</th>\n",
       "      <th>abbreviation</th>\n",
       "      <th>nickname</th>\n",
       "      <th>city</th>\n",
       "      <th>state</th>\n",
       "      <th>year_founded</th>\n",
       "    </tr>\n",
       "  </thead>\n",
       "  <tbody>\n",
       "    <tr>\n",
       "      <th>0</th>\n",
       "      <td>1610612737</td>\n",
       "      <td>Atlanta Hawks</td>\n",
       "      <td>ATL</td>\n",
       "      <td>Hawks</td>\n",
       "      <td>Atlanta</td>\n",
       "      <td>Atlanta</td>\n",
       "      <td>1949</td>\n",
       "    </tr>\n",
       "    <tr>\n",
       "      <th>1</th>\n",
       "      <td>1610612738</td>\n",
       "      <td>Boston Celtics</td>\n",
       "      <td>BOS</td>\n",
       "      <td>Celtics</td>\n",
       "      <td>Boston</td>\n",
       "      <td>Massachusetts</td>\n",
       "      <td>1946</td>\n",
       "    </tr>\n",
       "    <tr>\n",
       "      <th>2</th>\n",
       "      <td>1610612739</td>\n",
       "      <td>Cleveland Cavaliers</td>\n",
       "      <td>CLE</td>\n",
       "      <td>Cavaliers</td>\n",
       "      <td>Cleveland</td>\n",
       "      <td>Ohio</td>\n",
       "      <td>1970</td>\n",
       "    </tr>\n",
       "    <tr>\n",
       "      <th>3</th>\n",
       "      <td>1610612740</td>\n",
       "      <td>New Orleans Pelicans</td>\n",
       "      <td>NOP</td>\n",
       "      <td>Pelicans</td>\n",
       "      <td>New Orleans</td>\n",
       "      <td>Louisiana</td>\n",
       "      <td>2002</td>\n",
       "    </tr>\n",
       "    <tr>\n",
       "      <th>4</th>\n",
       "      <td>1610612741</td>\n",
       "      <td>Chicago Bulls</td>\n",
       "      <td>CHI</td>\n",
       "      <td>Bulls</td>\n",
       "      <td>Chicago</td>\n",
       "      <td>Illinois</td>\n",
       "      <td>1966</td>\n",
       "    </tr>\n",
       "    <tr>\n",
       "      <th>5</th>\n",
       "      <td>1610612742</td>\n",
       "      <td>Dallas Mavericks</td>\n",
       "      <td>DAL</td>\n",
       "      <td>Mavericks</td>\n",
       "      <td>Dallas</td>\n",
       "      <td>Texas</td>\n",
       "      <td>1980</td>\n",
       "    </tr>\n",
       "  </tbody>\n",
       "</table>\n",
       "</div>"
      ],
      "text/plain": [
       "           id             full_name abbreviation   nickname         city  \\\n",
       "0  1610612737         Atlanta Hawks          ATL      Hawks      Atlanta   \n",
       "1  1610612738        Boston Celtics          BOS    Celtics       Boston   \n",
       "2  1610612739   Cleveland Cavaliers          CLE  Cavaliers    Cleveland   \n",
       "3  1610612740  New Orleans Pelicans          NOP   Pelicans  New Orleans   \n",
       "4  1610612741         Chicago Bulls          CHI      Bulls      Chicago   \n",
       "5  1610612742      Dallas Mavericks          DAL  Mavericks       Dallas   \n",
       "\n",
       "           state  year_founded  \n",
       "0        Atlanta          1949  \n",
       "1  Massachusetts          1946  \n",
       "2           Ohio          1970  \n",
       "3      Louisiana          2002  \n",
       "4       Illinois          1966  \n",
       "5          Texas          1980  "
      ]
     },
     "execution_count": 15,
     "metadata": {},
     "output_type": "execute_result"
    }
   ],
   "source": [
    "table(NBA_teams)"
   ]
  },
  {
   "cell_type": "code",
   "execution_count": null,
   "id": "d303e3ea-4df7-459f-a746-d3ee13e09c0a",
   "metadata": {},
   "outputs": [],
   "source": []
  }
 ],
 "metadata": {
  "kernelspec": {
   "display_name": "Python [conda env:base] *",
   "language": "python",
   "name": "conda-base-py"
  },
  "language_info": {
   "codemirror_mode": {
    "name": "ipython",
    "version": 3
   },
   "file_extension": ".py",
   "mimetype": "text/x-python",
   "name": "python",
   "nbconvert_exporter": "python",
   "pygments_lexer": "ipython3",
   "version": "3.12.7"
  }
 },
 "nbformat": 4,
 "nbformat_minor": 5
}
